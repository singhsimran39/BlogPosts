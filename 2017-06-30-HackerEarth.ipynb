{
 "cells": [
  {
   "cell_type": "markdown",
   "metadata": {},
   "source": [
    "## IndiaHacks Machine Learning 2017"
   ]
  },
  {
   "cell_type": "markdown",
   "metadata": {},
   "source": [
    "I participated in the IndiaHacks 2017: Machine Learning competition that was hosted on HackerEarth recently and did pretty well. I ranked 15th on the private Leaderboard and qualified for the 2nd round of the competition.\n",
    "\n",
    "The competition involved solving a binary classification problem one being binary and the other being multi class classification. The competition involved real world data provided by [Hotstar](http://www.hotstar.com), which is a Mobile Entertainment company. I tried different models and found that XGBoost implementation worked the best. Moreover, I created around 10 different XGBoost models (using different features) and then stacked them together to create an ensemble. Ensembling improved my score by a lot and helped in moving up the leaderboard.\n",
    "\n",
    "Feature Extraction was the most challenging part of this challenge. The data was given in JSON file and all the columns were in text format. The challenge was to predict marketing segments for the company using user data. Each row of data had the following features:\n",
    "- ID = unique identifier variable\n",
    "- titles = titles of the shows watched by the user and watch_time on different titles in the format “title:watch_time” separated by comma, e.g. “Title1:23, Title2:40”. watch_time is in seconds\n",
    "- genres = same as above\n",
    "- cities = same as above\n",
    "- tod = total watch time of the user spreaded across different time of days (24 hours format) in the format “time_of_day:watch_time” separated by comma, e.g. “1:454, “17”:5444”\n",
    "- dow = total watch time of the user spreaded across different days of week (7 days format) in the format “day_of_week:watch_time” separated by comma, e.g. “1:454, “6”:5444”\n",
    "- segment = target variable. consider them as interest segments. For modeling, encode pos = 1, neg = 0\n",
    "\n",
    "Here is a snapshot of the data in the original format\n",
    "![](/assets/images/hotstar.png)\n",
    "I created different features such as different genres, different cities in which users used the app, most watched shows etc. In the end a few of my models had around 300 differnt features. [Here](https://github.com/singhsimran39/CompetitiveMachineLearning/tree/master/HackerEarth_Hotstar) is the code for the solution."
   ]
  }
 ],
 "metadata": {
  "kernelspec": {
   "display_name": "Python 3",
   "language": "python",
   "name": "python3"
  },
  "language_info": {
   "codemirror_mode": {
    "name": "ipython",
    "version": 3
   },
   "file_extension": ".py",
   "mimetype": "text/x-python",
   "name": "python",
   "nbconvert_exporter": "python",
   "pygments_lexer": "ipython3",
   "version": "3.6.1"
  }
 },
 "nbformat": 4,
 "nbformat_minor": 2
}
