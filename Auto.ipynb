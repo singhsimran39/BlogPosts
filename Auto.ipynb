{
 "cells": [
  {
   "cell_type": "markdown",
   "metadata": {},
   "source": [
    "## Train a Tensorflow Model + Build a Flask WebApp + Deploy on Cloud\n",
    "\n",
    "This post shows and end to end flow of deploying a Machine Learning model on cloud that can predict given a set of new and unseen data. The steps involved are:\n",
    "- Use Tensorflow to train a model \n",
    "- Save the tensorflow model\n",
    "- Build Web Form using a Flask\n",
    "- Restore the saved model in the WebApp\n",
    "- Use the restored model to predict on unseen data\n",
    "- Deploy the WebApp on cloud using Heroku"
   ]
  },
  {
   "cell_type": "markdown",
   "metadata": {},
   "source": [
    "### Train a Tensorflow model\n",
    "\n",
    "Here I use a simple dataset (Auto) from UCI repository and use only a few features of the dataset."
   ]
  },
  {
   "cell_type": "code",
   "execution_count": 1,
   "metadata": {
    "collapsed": true
   },
   "outputs": [],
   "source": [
    "import tensorflow as tf\n",
    "import pandas as pd\n",
    "import numpy as np\n",
    "from sklearn import datasets\n",
    "from sklearn.model_selection import train_test_split"
   ]
  },
  {
   "cell_type": "markdown",
   "metadata": {},
   "source": [
    "**Data preparation i.e. mean centering and normalization**\n",
    "\n",
    "Taking only cylinders, horsepowerm weight, year and origin as features to predict miles per gallon"
   ]
  },
  {
   "cell_type": "code",
   "execution_count": 2,
   "metadata": {
    "collapsed": true
   },
   "outputs": [],
   "source": [
    "auto = pd.read_csv('auto-mpg.data.csv', na_values='?')\n",
    "auto = auto[['mpg', 'cylinders', 'hp', 'wt', 'year', 'origin']]\n",
    "auto = pd.get_dummies(auto, columns=['cylinders', 'origin'], drop_first=True)\n",
    "auto['hp'] = auto['hp'].fillna(auto['hp'].mean(axis=0))\n",
    "xtrain, xtest, ytrain, ytest = train_test_split(auto.iloc[:,1:10], auto.iloc[:,0], test_size = .2, random_state = 123)\n",
    "\n",
    "tempAuto = pd.read_csv('auto-mpg.data.csv', na_values='?')\n",
    "tempAuto = tempAuto.loc[xtest.index]\n",
    "tempAuto = tempAuto.iloc[:,[0, 1, 3, 4, 6, 7]]\n",
    "tempAuto.to_csv('/Stuff/Courses/Projects/Flask/Auto/tempAuto.csv')\n",
    "\n",
    "tMeans = [xtest['hp'].mean(axis=0), xtest['wt'].mean(axis=0), xtest['year'].mean(axis=0)]\n",
    "tStds = [xtest['hp'].std(axis=0), xtest['wt'].std(axis=0), xtest['year'].std(axis=0)]\n",
    "\n",
    "xtrain['hp'] = xtrain['hp'] - xtrain['hp'].mean(axis=0)\n",
    "xtrain['wt'] = xtrain['wt'] - xtrain['wt'].mean(axis=0)\n",
    "xtrain['year'] = xtrain['year'] - xtrain['year'].mean(axis=0)\n",
    "\n",
    "xtrain['hp'] = xtrain['hp'] / xtrain['hp'].std()\n",
    "xtrain['wt'] = xtrain['wt'] / xtrain['wt'].std()\n",
    "xtrain['year'] = xtrain['year'] / xtrain['year'].std()\n",
    "\n",
    "xtest['hp'] = xtest['hp'] - xtest['hp'].mean(axis=0)\n",
    "xtest['wt'] = xtest['wt'] - xtest['wt'].mean(axis=0)\n",
    "xtest['year'] = xtest['year'] - xtest['year'].mean(axis=0)\n",
    "\n",
    "xtest['hp'] = xtest['hp'] / xtest['hp'].std()\n",
    "xtest['wt'] = xtest['wt'] / xtest['wt'].std()\n",
    "xtest['year'] = xtest['year'] / xtest['year'].std()\n",
    "\n",
    "xtrain = xtrain.values\n",
    "ytrain = ytrain.values\n",
    "\n",
    "xtest = xtest.values\n",
    "ytest = ytest.values\n",
    "\n",
    "ytrain.shape = (len(ytrain), 1)\n",
    "ytest.shape = (len(ytest), 1)"
   ]
  },
  {
   "cell_type": "markdown",
   "metadata": {},
   "source": [
    "**Build a graph in tensorflow and run the graph**"
   ]
  },
  {
   "cell_type": "code",
   "execution_count": 3,
   "metadata": {},
   "outputs": [
    {
     "name": "stdout",
     "output_type": "stream",
     "text": [
      "Train Loss: 5.77966 Test Loss: 8.48845\n"
     ]
    }
   ],
   "source": [
    "x = tf.placeholder(tf.float32, shape=[None, 9], name = 'x1')\n",
    "y = tf.placeholder(tf.float32, shape=[None, 1])\n",
    "\n",
    "w1 = tf.Variable(tf.random_normal([9, 100], seed=123))\n",
    "b1 = tf.Variable(tf.zeros([100]))\n",
    "w2 = tf.Variable(tf.random_normal([100, 1], seed=123))\n",
    "b2 = tf.Variable(tf.zeros([1]))\n",
    "\n",
    "h1 = tf.nn.sigmoid(tf.matmul(x, w1) + b1)\n",
    "h2 = tf.add(tf.matmul(h1, w2), b2, name='pred')\n",
    "\n",
    "loss = tf.losses.mean_squared_error(labels=y, predictions=h2)\n",
    "train_step = tf.train.GradientDescentOptimizer(.01).minimize(loss)\n",
    "\n",
    "sess = tf.InteractiveSession()\n",
    "tf.global_variables_initializer().run()\n",
    "\n",
    "for i in range(2000):\n",
    "    _, trainLoss = sess.run([train_step, loss], feed_dict = {x:xtrain, y:ytrain})\n",
    "    testLoss = sess.run(loss, feed_dict={x:xtest, y:ytest})\n",
    "\n",
    "print('Train Loss:', trainLoss, 'Test Loss:', testLoss)"
   ]
  },
  {
   "cell_type": "markdown",
   "metadata": {},
   "source": [
    "### Save the model\n",
    "\n",
    "Save the model in the same session and give it a name to resotre it later"
   ]
  },
  {
   "cell_type": "code",
   "execution_count": 4,
   "metadata": {},
   "outputs": [
    {
     "data": {
      "text/plain": [
       "'auto'"
      ]
     },
     "execution_count": 4,
     "metadata": {},
     "output_type": "execute_result"
    }
   ],
   "source": [
    "saver = tf.train.Saver()\n",
    "saver.save(sess, 'auto')"
   ]
  },
  {
   "cell_type": "markdown",
   "metadata": {},
   "source": [
    "### Build a Flask WebApp\n",
    "\n",
    "The main file of the app. \n",
    "The main page shows two text boxes to enter the horsepower and weight values and three dropdowns to select the year, cylinders and origin. After this in the if condition of the index method the predict method of the model file is called which takes in the new data and gives the prediction."
   ]
  },
  {
   "cell_type": "code",
   "execution_count": null,
   "metadata": {
    "collapsed": true
   },
   "outputs": [],
   "source": [
    "from flask import Flask, render_template, request\n",
    "from flask_wtf import FlaskForm\n",
    "from wtforms import Form, FloatField, SelectField, validators\n",
    "from flask_bootstrap import Bootstrap\n",
    "import pandas as pd\n",
    "import model\n",
    "\n",
    "app = Flask(__name__)\n",
    "app.secret_key = 'aaa'\n",
    "Bootstrap(app)\n",
    "\n",
    "# Model\n",
    "class InputForm(FlaskForm):\n",
    "    horsepower = FloatField('Horse Power', validators=[validators.InputRequired()])\n",
    "    weight = FloatField('Weight', validators=[validators.InputRequired()])\n",
    "\n",
    "    year = SelectField('Year', choices=[('70', '1970'), ('71', '1971'), ('72', '1972'), ('73', '1973'), ('74', '1974'), ('75', '1975'),\n",
    "    ('76', '1976'), ('77', '1977'), ('78', '1978'), ('79', '1979'), ('80', '1980'), ('81', '1981')])\n",
    "\n",
    "    cylinders = SelectField('Cylinders', choices=[('3', 'Three'), ('4', 'Four'), ('5', 'Five'), ('6', 'Six'), ('8', 'Eight')])\n",
    "\n",
    "    origin = SelectField('Origin', choices=[('1', 'One'), ('2', 'Two'), ('3', 'Three')])\n",
    "\n",
    "# View\n",
    "@app.route('/', methods=['GET', 'POST'])\n",
    "def index():\n",
    "    #testData = pd.read_csv('tempAuto.csv')\n",
    "    form = InputForm()\n",
    "    allNums = []\n",
    "    if form.validate_on_submit():\n",
    "        allNums = [value for fieldname, value in form.data.items()]\n",
    "        total = model.predict(allNums)\n",
    "    else:\n",
    "        total = None\n",
    "\n",
    "    return render_template(\"index.html\", form=form, data = pd.read_csv('tempAuto.csv').to_html(), total=total)\n",
    "\n",
    "if __name__ == '__main__':\n",
    "    app.run(debug=True)"
   ]
  },
  {
   "cell_type": "markdown",
   "metadata": {},
   "source": [
    "### Restore the saved model\n",
    "\n",
    "**model.py**\n",
    "\n",
    "The saved model is restored in this file and the input data is centered and normalized using the values from the test data used in model training."
   ]
  },
  {
   "cell_type": "code",
   "execution_count": 1,
   "metadata": {
    "collapsed": true
   },
   "outputs": [],
   "source": [
    "import tensorflow as tf\n",
    "import numpy as np\n",
    "\n",
    "def predict(data):\n",
    "    data = data[:-1]\n",
    "\n",
    "    hp = data[0]\n",
    "    hp -= 100.375\n",
    "    hp /= 37.948124151033845\n",
    "    hp = [hp]\n",
    "\n",
    "    wt = data[1]\n",
    "    wt -= 2858.7\n",
    "    wt /= 797.8211055466606\n",
    "    wt = [wt]\n",
    "\n",
    "    cylinders = data[2]\n",
    "    if cylinders == 3:\n",
    "        cyl = [0,0,0,0]\n",
    "    elif cylinders == 4:\n",
    "        cyl = [1,0,0,0]\n",
    "    elif cylinders == 5:\n",
    "        cyl = [0,1,0,0]\n",
    "    elif cylinders == 6:\n",
    "        cyl = [0,0,1,0]\n",
    "    else:\n",
    "        cyl = [0,0,0,1]\n",
    "\n",
    "    origin = data[3]\n",
    "    if origin == 1:\n",
    "        ori = [0,0]\n",
    "    elif origin == 2:\n",
    "        ori = [1,0]\n",
    "    else:\n",
    "        ori = [0,1]\n",
    "\n",
    "    year = float(data[4])\n",
    "    year -= 75.75\n",
    "    year /= 3.7399654774010815\n",
    "    year = [year]\n",
    "\n",
    "    newData = hp + wt + cyl + ori + year\n",
    "    x = np.array(newData)\n",
    "    x.shape = (1,9)\n",
    "\n",
    "    saver = tf.train.import_meta_graph('./auto.meta')\n",
    "    sess = tf.Session()\n",
    "    saver.restore(sess, 'auto')\n",
    "\n",
    "    result = sess.run('pred:0', feed_dict={'x1:0':x})\n",
    "\n",
    "    return result[0,0]"
   ]
  },
  {
   "cell_type": "markdown",
   "metadata": {},
   "source": [
    "**index.html**\n",
    "\n",
    "![](/assets/images/index.png)"
   ]
  },
  {
   "cell_type": "markdown",
   "metadata": {},
   "source": [
    "### Deploy the App using Heroku"
   ]
  },
  {
   "cell_type": "markdown",
   "metadata": {},
   "source": [
    "**Login to your Heroku account**\n",
    "\n",
    "$ heroku login"
   ]
  },
  {
   "cell_type": "markdown",
   "metadata": {},
   "source": [
    "**change directory to the project directory**\n",
    "\n",
    "$ cd auto/\n",
    "\n",
    "**Initialize it as a git repository**\n",
    "\n",
    "$ git init\n",
    "\n",
    "**Create Heroku as the remote**\n",
    "\n",
    "$ heroku git:remote -a auto-predict"
   ]
  },
  {
   "cell_type": "markdown",
   "metadata": {},
   "source": [
    "**Commit changes and push to the remote**\n",
    "\n",
    "$ git add .\n",
    "\n",
    "$ git commit -m \"commit message\"\n",
    "\n",
    "$ git push heroku master"
   ]
  }
 ],
 "metadata": {
  "kernelspec": {
   "display_name": "Python 3",
   "language": "python",
   "name": "python3"
  },
  "language_info": {
   "codemirror_mode": {
    "name": "ipython",
    "version": 3
   },
   "file_extension": ".py",
   "mimetype": "text/x-python",
   "name": "python",
   "nbconvert_exporter": "python",
   "pygments_lexer": "ipython3",
   "version": "3.6.1"
  }
 },
 "nbformat": 4,
 "nbformat_minor": 2
}
